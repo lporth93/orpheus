{
 "cells": [
  {
   "cell_type": "markdown",
   "id": "2d5d625c",
   "metadata": {},
   "source": [
    "# Constructing an ensemble of reduced catalogs\n",
    "\n",
    "In this notebooks we explore the `Catalog._multihash` method that generates an easily searchable hierarchy of tracer catalogs."
   ]
  },
  {
   "cell_type": "code",
   "execution_count": 1,
   "id": "90abdb2e",
   "metadata": {},
   "outputs": [],
   "source": [
    "from astropy.table import Table\n",
    "import numpy as np\n",
    "from matplotlib import pyplot as plt\n",
    "\n",
    "import orpheus"
   ]
  }
 ],
 "metadata": {
  "kernelspec": {
   "display_name": "orpheus_devel",
   "language": "python",
   "name": "orpheus_devel"
  },
  "language_info": {
   "codemirror_mode": {
    "name": "ipython",
    "version": 3
   },
   "file_extension": ".py",
   "mimetype": "text/x-python",
   "name": "python",
   "nbconvert_exporter": "python",
   "pygments_lexer": "ipython3",
   "version": "3.12.1"
  }
 },
 "nbformat": 4,
 "nbformat_minor": 5
}
