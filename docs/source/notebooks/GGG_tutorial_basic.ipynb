{
 "cells": [
  {
   "cell_type": "markdown",
   "id": "e0881798",
   "metadata": {},
   "source": [
    "# Computing third-order shear statistics on a shape catalog\n",
    "\n",
    "In this notebooks we compute the third-order shear correlation functions on a realistic shape catalog and transform them to the third-order aperture statistics."
   ]
  },
  {
   "cell_type": "code",
   "execution_count": 1,
   "id": "951cab7c",
   "metadata": {},
   "outputs": [],
   "source": [
    "from astropy.table import Table\n",
    "import numpy as np\n",
    "from matplotlib import pyplot as plt\n",
    "\n",
    "import orpheus"
   ]
  },
  {
   "cell_type": "markdown",
   "id": "8d304229",
   "metadata": {},
   "source": [
    "## Obtaining a realistic mock shape catalog\n",
    "\n",
    "We will run this notebook using a mocks shape catalog from the SLICS ensemble. First, let us download this catalog and read in its contents.\n",
    "\n",
    "**Note:** If you want to run the notebook yourself, you need to update the `savepath_SLICS` variable."
   ]
  },
  {
   "cell_type": "code",
   "execution_count": 2,
   "id": "0642850c",
   "metadata": {},
   "outputs": [],
   "source": [
    "catname = \"GalCatalog_LOS1.fits\"\n",
    "path_to_SLICS = \"http://cuillin.roe.ac.uk/~jharno/SLICS/MockProducts/KiDS450/\" + catname\n",
    "savepath_SLICS = \"/vol/euclidraid4/data/lporth/HigherOrderLensing/Mocks/SLICS_KiDS450/\""
   ]
  },
  {
   "cell_type": "code",
   "execution_count": 3,
   "id": "26fc3d91",
   "metadata": {},
   "outputs": [
    {
     "name": "stdout",
     "output_type": "stream",
     "text": [
      "--2025-09-06 16:46:34--  http://cuillin.roe.ac.uk/~jharno/SLICS/MockProducts/KiDS450/GalCatalog_LOS1.fits\n",
      "Resolving cuillin.roe.ac.uk (cuillin.roe.ac.uk)... 129.215.175.32\n",
      "Connecting to cuillin.roe.ac.uk (cuillin.roe.ac.uk)|129.215.175.32|:80... connected.\n",
      "HTTP request sent, awaiting response... 200 OK\n",
      "Length: 196545600 (187M) [image/fits]\n",
      "Saving to: ‘/vol/euclidraid4/data/lporth/HigherOrderLensing/Mocks/SLICS_KiDS450/GalCatalog_LOS1.fits.2’\n",
      "\n",
      "GalCatalog_LOS1.fit  41%[=======>            ]  77,71M  47,4MB/s               "
     ]
    }
   ],
   "source": [
    "!wget {path_to_SLICS} -P {savepath_SLICS}"
   ]
  },
  {
   "cell_type": "code",
   "execution_count": 3,
   "id": "77411b0d",
   "metadata": {},
   "outputs": [
    {
     "name": "stdout",
     "output_type": "stream",
     "text": [
      "['x_arcmin', 'y_arcmin', 'z_spectroscopic', 'z_photometric', 'shear1', 'shear2', 'eps_obs1', 'eps_obs2']\n"
     ]
    },
    {
     "name": "stderr",
     "output_type": "stream",
     "text": [
      "WARNING: UnitsWarning: 'UNKNOWN' did not parse as fits unit: At col 0, Unit 'UNKNOWN' not supported by the FITS standard.  If this is meant to be a custom unit, define it with 'u.def_unit'. To have it recognized inside a file reader or other code, enable it with 'u.add_enabled_units'. For details, see https://docs.astropy.org/en/latest/units/combining_and_defining.html [astropy.units.core]\n",
      "WARNING: UnitsWarning: 'UNKNOWN' did not parse as fits unit: At col 0, Unit 'UNKNOWN' not supported by the FITS standard.  If this is meant to be a custom unit, define it with 'u.def_unit'. To have it recognized inside a file reader or other code, enable it with 'u.add_enabled_units'. For details, see https://docs.astropy.org/en/latest/units/combining_and_defining.html [astropy.units.core]\n"
     ]
    }
   ],
   "source": [
    "slicscat = Table.read(savepath_SLICS + catname)\n",
    "print(slicscat.keys())"
   ]
  },
  {
   "cell_type": "markdown",
   "id": "77a01781",
   "metadata": {},
   "source": [
    "## Initialize the catalog instance\n",
    "\n",
    "As we are dealing with an ellipticity catalog, we need to use the `SpinTracerCatalog` class and set the value of `spin` to two."
   ]
  },
  {
   "cell_type": "code",
   "execution_count": 4,
   "id": "d5d9b6be",
   "metadata": {},
   "outputs": [],
   "source": [
    "shapecat = orpheus.SpinTracerCatalog(spin=2,\n",
    "                                     pos1=slicscat[\"x_arcmin\"],\n",
    "                                     pos2=slicscat[\"y_arcmin\"],\n",
    "                                     tracer_1=slicscat[\"shear1\"],\n",
    "                                     tracer_2=slicscat[\"shear2\"])"
   ]
  },
  {
   "cell_type": "code",
   "execution_count": 5,
   "id": "093664bb",
   "metadata": {},
   "outputs": [
    {
     "name": "stdout",
     "output_type": "stream",
     "text": [
      "Number of galaxies:3070801 --> effective nbar: 8.530/arcmin^2 on 100.00 deg^2\n"
     ]
    }
   ],
   "source": [
    "print(\"Number of galaxies:%i --> effective nbar: %.3f/arcmin^2 on %.2f deg^2\"%(\n",
    "    shapecat.ngal, shapecat.ngal/(shapecat.len1*shapecat.len2), shapecat.len1*shapecat.len2/3600.))"
   ]
  },
  {
   "cell_type": "markdown",
   "id": "372be668",
   "metadata": {},
   "source": [
    "## Computation of the shear 3pcf\n",
    "\n",
    "For computing the natural components of the third-order shear correlation functions we need to invoke the `GGGCorrelation` class. In principle, it is only required to define a binning for the 3pcf (given my the range of the bins and the number of bins).\n",
    "\n",
    "**Notes**\n",
    "\n",
    "* Instead of the number of bins you can also specify the logarithmic bin-width `binsize`. However, the final value of `binsize` might differ slightly from the provided one as we fix the values for the binning range and then choose the largest possible value of `binsize` that is smaller or equal to the input value for `binsize`.\n",
    "\n",
    "* If no further parameters are passed, the default setup chooses the some accelerations of the discrete multipole estimator renders fairly accurate results for the 3pcf itself and percent-level accuracy for the third-order aperture statistics. In case you want a different setup than the default results you can change the parameters of the parent `BinnedNPCF` class."
   ]
  },
  {
   "cell_type": "code",
   "execution_count": 6,
   "id": "1b29ddae",
   "metadata": {},
   "outputs": [
    {
     "data": {
      "text/plain": [
       "<function orpheus.npcf.GGGCorrelation.__init__(self, n_cfs, min_sep, max_sep, **kwargs)>"
      ]
     },
     "execution_count": 6,
     "metadata": {},
     "output_type": "execute_result"
    }
   ],
   "source": [
    "orpheus.GGGCorrelation.__init__"
   ]
  },
  {
   "cell_type": "code",
   "execution_count": 7,
   "id": "0956fb66",
   "metadata": {},
   "outputs": [
    {
     "data": {
      "text/plain": [
       "<function orpheus.npcf.BinnedNPCF.__init__(self, order, spins, n_cfs, min_sep, max_sep, nbinsr=None, binsize=None, nbinsphi=100, nmaxs=30, method='DoubleTree', multicountcorr=True, shuffle_pix=0, tree_resos=[0, 0.25, 0.5, 1.0, 2.0], tree_redges=None, rmin_pixsize=20, resoshift_leafs=0, minresoind_leaf=None, maxresoind_leaf=None, methods_avail=['Discrete', 'Tree', 'BaseTree', 'DoubleTree'], verbosity=0, nthreads=16)>"
      ]
     },
     "execution_count": 7,
     "metadata": {},
     "output_type": "execute_result"
    }
   ],
   "source": [
    "orpheus.BinnedNPCF.__init__"
   ]
  },
  {
   "cell_type": "code",
   "execution_count": 8,
   "id": "2e454f55",
   "metadata": {},
   "outputs": [],
   "source": [
    "min_sep = 0.5\n",
    "max_sep = 150.\n",
    "binsize = 0.1\n",
    "nthreads=48"
   ]
  },
  {
   "cell_type": "code",
   "execution_count": 9,
   "id": "23afcb06",
   "metadata": {},
   "outputs": [],
   "source": [
    "threepcf = orpheus.GGGCorrelation(n_cfs=4,\n",
    "                                  min_sep=min_sep, max_sep=max_sep,binsize=binsize,\n",
    "                                  nthreads=nthreads, verbosity=2)"
   ]
  },
  {
   "cell_type": "code",
   "execution_count": 10,
   "id": "e32debc5",
   "metadata": {},
   "outputs": [
    {
     "name": "stdout",
     "output_type": "stream",
     "text": [
      ".........|.........|.........|.........|.........|.........|.........|.........|.........|.........|\n",
      "CPU times: user 1h 49min 13s, sys: 7.92 s, total: 1h 49min 21s\n",
      "Wall time: 2min 21s\n"
     ]
    }
   ],
   "source": [
    "%%time\n",
    "threepcf.process(shapecat)"
   ]
  },
  {
   "cell_type": "markdown",
   "id": "7313793d",
   "metadata": {},
   "source": [
    "Once processed, the instance of `GGGCorrelation` contains the multipole components of the third-order shear correlators $\\Upsilon_{\\mu,n}$, as well as their nonrmalizations $\\mathcal{N}_n$ in their multipole basis. If required, we can use the `multiples2npcf` method to transform the to the real-space basis, in which they become the more well-known natural components $\\Gamma_{\\mu}$ of the shear 3PCF (Schneider 2003)."
   ]
  },
  {
   "cell_type": "code",
   "execution_count": 11,
   "id": "14363ae6",
   "metadata": {},
   "outputs": [
    {
     "name": "stdout",
     "output_type": "stream",
     "text": [
      "CPU times: user 962 ms, sys: 4.9 ms, total: 967 ms\n",
      "Wall time: 27.6 ms\n"
     ]
    }
   ],
   "source": [
    "%%time\n",
    "threepcf.multipoles2npcf()"
   ]
  },
  {
   "cell_type": "markdown",
   "id": "ca947507",
   "metadata": {},
   "source": [
    "Unless otherwise specified, the projection of the shear is not altered - hence it is given in the projection favoured by the multipole estimator, which in `orpheus` is dubbed the `X`-projection. To transform it the the `centroid` projection we can use the `projectnpcf` methods. <br>\n",
    "The current projection can always be accessed by the `projection` attribute."
   ]
  },
  {
   "cell_type": "code",
   "execution_count": 12,
   "id": "2a7308c2",
   "metadata": {},
   "outputs": [
    {
     "name": "stdout",
     "output_type": "stream",
     "text": [
      "Current 3PCF projection: Centroid\n",
      "Current 3PCF projection: Centroid\n",
      "CPU times: user 304 µs, sys: 0 ns, total: 304 µs\n",
      "Wall time: 310 µs\n"
     ]
    }
   ],
   "source": [
    "%%time\n",
    "print(\"Current 3PCF projection: %s\"%threepcf.projection)\n",
    "threepcf.projectnpcf(\"Centroid\")\n",
    "print(\"Current 3PCF projection: %s\"%threepcf.projection)"
   ]
  },
  {
   "cell_type": "markdown",
   "id": "0de80e3b",
   "metadata": {},
   "source": [
    "## Computation of the aperture mass\n",
    "\n",
    "The integral transormation between the shear 3PCF and the third-order aperture statistics can be done by calling the `GGGCorrelation.computeMap3` method.\n",
    "\n",
    "**Notes**\n",
    "\n",
    "* In case you are only interested in obtaining the third-order aperture statistics, you can also directly call this method right after processing the shape catalog.\n",
    "\n",
    "* One should only trust the third-order aperture statistics for radii $R\\in[\\alpha\\,\\theta_{\\rm min}, \\beta\\,\\theta_{\\rm max}]$, where $\\alpha\\approx 5$  and $\\beta \\approx 0.125$. In the plot below this range is indicated by the dashed vertical lines.\n",
    "\n",
    "* Furthermore, the binning should be sufficiently fine, i.e. the value of the `GGGCorrelation.binsize` attribute should be less than `0.1` for an accuracy of about one per cent."
   ]
  },
  {
   "cell_type": "code",
   "execution_count": 13,
   "id": "0f4511bd",
   "metadata": {},
   "outputs": [],
   "source": [
    "mapradii = np.geomspace(1,30,20)"
   ]
  },
  {
   "cell_type": "code",
   "execution_count": 14,
   "id": "b0ed8b38",
   "metadata": {},
   "outputs": [
    {
     "name": "stdout",
     "output_type": "stream",
     "text": [
      "CPU times: user 5.04 s, sys: 238 ms, total: 5.28 s\n",
      "Wall time: 5.37 s\n"
     ]
    }
   ],
   "source": [
    "%%time\n",
    "map3 = threepcf.computeMap3(mapradii)"
   ]
  },
  {
   "cell_type": "code",
   "execution_count": 15,
   "id": "aa4c9dc8",
   "metadata": {},
   "outputs": [
    {
     "data": {
      "text/plain": [
       "<matplotlib.legend.Legend at 0x7913825f8e90>"
      ]
     },
     "execution_count": 15,
     "metadata": {},
     "output_type": "execute_result"
    },
    {
     "data": {
      "image/png": "[encoded data removed]",
      "text/plain": [
       "<Figure size 640x480 with 1 Axes>"
      ]
     },
     "metadata": {},
     "output_type": "display_data"
    }
   ],
   "source": [
    "scaleB = 20 # Rescale the B-modes for better visualization\n",
    "scaleP = 20 # Rescale the parity-violating-modes for better visualization\n",
    "plt.semilogx(mapradii,map3[0,0].real, label=\"Map3\")\n",
    "plt.semilogx(mapradii,scaleP*map3[1,0].real, label=\"%i x MapMapMx\"%scaleP)\n",
    "plt.semilogx(mapradii,scaleP*map3[2,0].real, label=\"%i x MapMxMap\"%scaleP)\n",
    "plt.semilogx(mapradii,scaleP*map3[3,0].real, label=\"%i x MxMapMap\"%scaleP)\n",
    "plt.semilogx(mapradii,scaleB*map3[4,0].real, label=\"%i x MapMxMx\"%scaleB)\n",
    "plt.semilogx(mapradii,scaleB*map3[5,0].real, label=\"%i x MxMapMx\"%scaleB)\n",
    "plt.semilogx(mapradii,scaleB*map3[6,0].real, label=\"%i x MxMxMap\"%scaleB)\n",
    "plt.semilogx(mapradii,scaleP*map3[7,0].real, label=\"%i x MxMxMx\"%scaleP)\n",
    "plt.axvline(x=5*threepcf.min_sep, color=\"grey\",alpha=0.5,ls=\"--\")\n",
    "plt.axvline(x=0.125*threepcf.max_sep, color=\"grey\",alpha=0.5,ls=\"--\")\n",
    "plt.axhline(y=0,color=\"black\",ls=\"--\")\n",
    "plt.xlabel(\"Aperture radius [arcmin]\")\n",
    "plt.ylabel(\"Third-order aperture statistics\")\n",
    "plt.ylim(-.1*np.max(map3[0,0].real),1.1*np.max(map3[0,0].real))\n",
    "plt.legend()"
   ]
  },
  {
   "cell_type": "code",
   "execution_count": null,
   "id": "6339a10f",
   "metadata": {},
   "outputs": [],
   "source": []
  }
 ],
 "metadata": {
  "kernelspec": {
   "display_name": "orpheus_devel",
   "language": "python",
   "name": "orpheus_devel"
  },
  "language_info": {
   "codemirror_mode": {
    "name": "ipython",
    "version": 3
   },
   "file_extension": ".py",
   "mimetype": "text/x-python",
   "name": "python",
   "nbconvert_exporter": "python",
   "pygments_lexer": "ipython3",
   "version": "3.12.1"
  }
 },
 "nbformat": 4,
 "nbformat_minor": 5
}
