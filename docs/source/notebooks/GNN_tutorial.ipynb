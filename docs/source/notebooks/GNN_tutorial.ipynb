{
 "cells": [
  {
   "cell_type": "markdown",
   "id": "2d5d625c",
   "metadata": {},
   "source": [
    "# Computing galaxy-galaxy-galaxy lensing statistics\n",
    "\n",
    "In this notebooks we compute the galaxy-galaxy-galaxy lensing (G3L) shear correlation functions on a mock catalog and transform them to the third-order aperture statistics."
   ]
  },
  {
   "cell_type": "code",
   "execution_count": 1,
   "id": "90abdb2e",
   "metadata": {},
   "outputs": [],
   "source": [
    "from astropy.table import Table\n",
    "import numpy as np\n",
    "from matplotlib import pyplot as plt\n",
    "\n",
    "import orpheus"
   ]
  },
  {
   "cell_type": "markdown",
   "id": "9016e231",
   "metadata": {},
   "source": [
    "## Initialize the catalog instances\n",
    "\n",
    "For this exercise we use a simplistic mock catalog that traces a euclid-like setup for the n(z) and uses a linear galaxy bias. In order to keep the computation time low, we focus on a single tile and further only look at some tomographic redshift bin combination. \n",
    "\n",
    "As we are dealing with two separate catalogs, we need to initialize a `ScalarTracerCatalog` instance for the lenses and a `SpinTracerCatalog` (with `spin=2`) for the sources."
   ]
  },
  {
   "cell_type": "code",
   "execution_count": 2,
   "id": "804e8c00",
   "metadata": {},
   "outputs": [],
   "source": [
    "path_to_data = \"/vol/euclidraid4/data/lporth/Projects/G3LEstimators/data/GLASS/mocks/euclidlike_fromT17_fullsky/patches/nside8192_real0_patch129.npz\""
   ]
  },
  {
   "cell_type": "code",
   "execution_count": 3,
   "id": "7afc513c",
   "metadata": {},
   "outputs": [],
   "source": [
    "mock = np.load(path_to_data)"
   ]
  },
  {
   "cell_type": "code",
   "execution_count": 4,
   "id": "081f3535",
   "metadata": {},
   "outputs": [],
   "source": [
    "sel_lens = (mock[\"zbin\"] == 2) * mock[\"isinner\"]\n",
    "sel_source = (mock[\"zbin\"] == 7) * mock[\"isinner\"]"
   ]
  },
  {
   "cell_type": "code",
   "execution_count": 5,
   "id": "a97bd9ce",
   "metadata": {},
   "outputs": [],
   "source": [
    "fthin_lens = 2\n",
    "fthin_source = 1\n",
    "sel_lens = mock[\"zbin\"] == 2\n",
    "sel_source = mock[\"zbin\"] == 7\n",
    "sources = orpheus.SpinTracerCatalog(spin=2,\n",
    "                                    pos1=mock[\"x\"][sel_source][::fthin_source], \n",
    "                                    pos2=mock[\"y\"][sel_source][::fthin_source],\n",
    "                                    tracer_1=mock[\"gam1\"][sel_source][::fthin_source],\n",
    "                                    tracer_2=mock[\"gam2\"][sel_source][::fthin_source], \n",
    "                                    isinner=mock[\"isinner\"][sel_source][::fthin_source],\n",
    "                                    weight=None, zbins=None)\n",
    "lenses = orpheus.ScalarTracerCatalog(pos1=mock[\"x\"][sel_lens][::fthin_lens], \n",
    "                                     pos2=mock[\"y\"][sel_lens][::fthin_lens], \n",
    "                                     tracer=np.ones_like(mock[\"x\"][sel_lens][::fthin_lens]), \n",
    "                                     isinner=mock[\"isinner\"][sel_lens][::fthin_lens],\n",
    "                                     weight=None, zbins=None)"
   ]
  },
  {
   "cell_type": "code",
   "execution_count": 6,
   "id": "c6af5c86",
   "metadata": {},
   "outputs": [
    {
     "name": "stdout",
     "output_type": "stream",
     "text": [
      "Number of source galaxies:2982910 --> effective nbar: 2.721/arcmin^2 on 304.50 deg^2\n",
      "Number of lens galaxies:1508628 --> effective nbar: 1.376/arcmin^2 on 304.45 deg^2\n"
     ]
    }
   ],
   "source": [
    "print(\"Number of source galaxies:%i --> effective nbar: %.3f/arcmin^2 on %.2f deg^2\"%(\n",
    "    sources.ngal, sources.ngal/(sources.len1*sources.len2), sources.len1*sources.len2/3600.))\n",
    "print(\"Number of lens galaxies:%i --> effective nbar: %.3f/arcmin^2 on %.2f deg^2\"%(\n",
    "    lenses.ngal, lenses.ngal/(lenses.len1*lenses.len2), lenses.len1*lenses.len2/3600.))"
   ]
  },
  {
   "cell_type": "markdown",
   "id": "fbffecb6",
   "metadata": {},
   "source": [
    "## Computation of the shear-lens-lens correlation function\n",
    "\n",
    "For computing the shear-lens-lens correlation function we need to invoke the `GNNCorrelation` class. In principle, it is only required to define a binning for the 3pcf (given by the range of the bins and the number of bins).\n",
    "\n",
    "**Notes**\n",
    "\n",
    "* Instead of the number of bins you can also specify the logarithmic bin-width `binsize`. However, the final value of `binsize` might differ slightly from the provided one as we fix the values for the binning range and then choose the largest possible value of `binsize` that is smaller or equal to the input value for `binsize`.\n",
    "\n",
    "* If no further parameters are passed, the default setup chooses the some accelerations of the discrete multipole estimator renders fairly accurate results for the 3pcf itself and percent-level accuracy for the third-order aperture statistics. In case you want a different setup than the default results you can change the parameters of the parent `BinnedNPCF` class."
   ]
  },
  {
   "cell_type": "code",
   "execution_count": 7,
   "id": "301fbb64",
   "metadata": {},
   "outputs": [
    {
     "name": "stdout",
     "output_type": "stream",
     "text": [
      "<CDLL '/vol/euclidraid4/data/lporth/HigherOrderLensing/Estimator/orpheus/orpheus/src/discrete.so', handle 561ba90 at 0x7fe7cb51ce60>\n"
     ]
    }
   ],
   "source": [
    "min_sep = 0.25\n",
    "max_sep = 150.\n",
    "binsize = 0.1\n",
    "nbinsphi = 256\n",
    "method = \"DoubleTree\"\n",
    "resoshift_leafs=-2\n",
    "nthreads = 64\n",
    "\n",
    "gnn = orpheus.GNNCorrelation(min_sep=min_sep, \n",
    "                                 max_sep=max_sep, \n",
    "                                 binsize=binsize,\n",
    "                                 nbinsphi=nbinsphi,\n",
    "                                 method=method,\n",
    "                                 resoshift_leafs=resoshift_leafs,\n",
    "                                 nthreads=nthreads)"
   ]
  },
  {
   "cell_type": "code",
   "execution_count": 8,
   "id": "a50abf45",
   "metadata": {
    "scrolled": true
   },
   "outputs": [
    {
     "name": "stdout",
     "output_type": "stream",
     "text": [
      "Region 126997 is in thread 32\n",
      "Bin edges:\n",
      "  reso=0: index_start=0, rtarget_start=0.25, rtrue_start=0.25\n",
      "           index_end=30, rtarget_end=5.00, rtrue_end=5.01\n",
      "  reso=1: index_start=30, rtarget_start=5.00, rtrue_start=5.01\n",
      "           index_end=37, rtarget_end=10.00, rtrue_end=10.09\n",
      "  reso=2: index_start=37, rtarget_start=10.00, rtrue_start=10.09\n",
      "           index_end=44, rtarget_end=20.00, rtrue_end=20.32\n",
      "  reso=3: index_start=44, rtarget_start=20.00, rtrue_start=20.32\n",
      "           index_end=51, rtarget_end=40.00, rtrue_end=40.91\n",
      "  reso=4: index_start=51, rtarget_start=40.00, rtrue_start=40.91\n",
      "           index_end=64, rtarget_end=150.00, rtrue_end=150.00\n",
      "ngal_in_pix[elreso=0][elz=0] = 16 \n",
      "matchers_resoshift[elreso=0] = 0 \n",
      "ngal_in_pix[elreso=1][elz=0] = 16 \n",
      "matchers_resoshift[elreso=1] = 64 \n",
      "ngal_in_pix[elreso=2][elz=0] = 12 \n",
      "matchers_resoshift[elreso=2] = 80 \n",
      "ngal_in_pix[elreso=3][elz=0] = 4 \n",
      "matchers_resoshift[elreso=3] = 84 \n",
      "ngal_in_pix[elreso=4][elz=0] = 1 \n",
      "matchers_resoshift[elreso=4] = 85 \n",
      "elregion=126997, elregion_fullhash=144431, pix1_start=-544.69 pix2_start=-524.69 \n",
      "hashpix_start1=-3.13 hashpix_start2=5.24 \n",
      "pix2redpix has length = 85 \n",
      "elreso=0, lower=1355877, thispix=1355877, elhashpix=7 7 63, zgal=0: pix2redpix[63=0+0+7*8+7]=0  \n",
      "elreso=0, lower=1355877, thispix=1355878, elhashpix=4 7 60, zgal=0: pix2redpix[60=0+0+7*8+4]=1  \n",
      "elreso=0, lower=1355877, thispix=1355879, elhashpix=1 7 57, zgal=0: pix2redpix[57=0+0+7*8+1]=2  \n",
      "elreso=0, lower=1355877, thispix=1355880, elhashpix=7 6 55, zgal=0: pix2redpix[55=0+0+6*8+7]=3  \n",
      "elreso=0, lower=1355877, thispix=1355881, elhashpix=4 6 52, zgal=0: pix2redpix[52=0+0+6*8+4]=4  \n",
      "elreso=0, lower=1355877, thispix=1355882, elhashpix=1 6 49, zgal=0: pix2redpix[49=0+0+6*8+1]=5  \n",
      "elreso=0, lower=1355877, thispix=1355883, elhashpix=3 5 43, zgal=0: pix2redpix[43=0+0+5*8+3]=6  \n",
      "elreso=0, lower=1355877, thispix=1355884, elhashpix=6 4 38, zgal=0: pix2redpix[38=0+0+4*8+6]=7  \n",
      "elreso=0, lower=1355877, thispix=1355885, elhashpix=4 4 36, zgal=0: pix2redpix[36=0+0+4*8+4]=8  \n",
      "elreso=0, lower=1355877, thispix=1355886, elhashpix=1 4 33, zgal=0: pix2redpix[33=0+0+4*8+1]=9  \n",
      "elreso=0, lower=1355877, thispix=1355887, elhashpix=0 4 32, zgal=0: pix2redpix[32=0+0+4*8+0]=10  \n",
      "elreso=0, lower=1355877, thispix=1355888, elhashpix=3 3 27, zgal=0: pix2redpix[27=0+0+3*8+3]=11  \n",
      "elreso=0, lower=1355877, thispix=1355889, elhashpix=0 3 24, zgal=0: pix2redpix[24=0+0+3*8+0]=12  \n",
      "elreso=0, lower=1355877, thispix=1355890, elhashpix=5 2 21, zgal=0: pix2redpix[21=0+0+2*8+5]=13  \n",
      "elreso=0, lower=1355877, thispix=1355891, elhashpix=1 1 9, zgal=0: pix2redpix[9=0+0+1*8+1]=14  \n",
      "elreso=0, lower=1355877, thispix=1355892, elhashpix=6 0 6, zgal=0: pix2redpix[6=0+0+0*8+6]=15  \n",
      "elreso=1, lower=1042572, thispix=1042572, elhashpix=3 3 15, zgal=0: pix2redpix[79=0+64+3*4+3]=0  \n",
      "elreso=1, lower=1042572, thispix=1042573, elhashpix=2 3 14, zgal=0: pix2redpix[78=0+64+3*4+2]=1  \n",
      "elreso=1, lower=1042572, thispix=1042574, elhashpix=0 3 12, zgal=0: pix2redpix[76=0+64+3*4+0]=2  \n",
      "elreso=1, lower=1042572, thispix=1042575, elhashpix=3 2 11, zgal=0: pix2redpix[75=0+64+2*4+3]=3  \n",
      "elreso=1, lower=1042572, thispix=1042576, elhashpix=2 2 10, zgal=0: pix2redpix[74=0+64+2*4+2]=4  \n",
      "elreso=1, lower=1042572, thispix=1042577, elhashpix=1 2 9, zgal=0: pix2redpix[73=0+64+2*4+1]=5  \n",
      "elreso=1, lower=1042572, thispix=1042578, elhashpix=0 2 8, zgal=0: pix2redpix[72=0+64+2*4+0]=6  \n",
      "elreso=1, lower=1042572, thispix=1042579, elhashpix=2 1 6, zgal=0: pix2redpix[70=0+64+1*4+2]=7  \n",
      "elreso=1, lower=1042572, thispix=1042580, elhashpix=1 1 5, zgal=0: pix2redpix[69=0+64+1*4+1]=8  \n",
      "elreso=1, lower=1042572, thispix=1042581, elhashpix=0 1 4, zgal=0: pix2redpix[68=0+64+1*4+0]=9  \n",
      "elreso=1, lower=1042572, thispix=1042582, elhashpix=3 0 3, zgal=0: pix2redpix[67=0+64+0*4+3]=10  \n",
      "elreso=1, lower=1042572, thispix=1042583, elhashpix=0 0 0, zgal=0: pix2redpix[64=0+64+0*4+0]=11  \n",
      "elreso=2, lower=475897, thispix=475897, elhashpix=1 1 3, zgal=0: pix2redpix[83=0+80+1*2+1]=0  \n",
      "elreso=2, lower=475897, thispix=475898, elhashpix=0 1 2, zgal=0: pix2redpix[82=0+80+1*2+0]=1  \n",
      "elreso=2, lower=47589CPU times: user 1h 51min 38s, sys: 7.45 s, total: 1h 51min 45s\n",
      "Wall time: 2min 47s\n"
     ]
    }
   ],
   "source": [
    "%%time\n",
    "gnn.process(sources, lenses)"
   ]
  },
  {
   "cell_type": "markdown",
   "id": "68a5a431",
   "metadata": {},
   "source": [
    "Once processed, the instance of `GNNCorrelation` contains the multipole components of the shear-lens-lens correlators $\\Upsilon^{'}_{\\tilde{\\mathcal{G}},n}$, as well as their nonrmalizations $\\mathcal{W}_n$ in their multipole basis. If required, we can use the `multiples2npcf` method to transform the to the real-space basis, in which they become the more well-known shear-lens-lens correlation function $\\tilde{G}$ (Schneider & Watts 2005)."
   ]
  },
  {
   "cell_type": "code",
   "execution_count": 9,
   "id": "4baf8a1b",
   "metadata": {},
   "outputs": [
    {
     "name": "stdout",
     "output_type": "stream",
     "text": [
      "CPU times: user 474 ms, sys: 12 ms, total: 486 ms\n",
      "Wall time: 482 ms\n"
     ]
    }
   ],
   "source": [
    "%%time\n",
    "gnn.multipoles2npcf()"
   ]
  },
  {
   "cell_type": "markdown",
   "id": "93ef57d8",
   "metadata": {},
   "source": [
    "## Computation of the aperture mass\n",
    "\n",
    "The integral transormation between the shear-lens-lens 3PCF and their third-order aperture statistics can be done by calling the `GNNNCorrelation.computeNNM` method.\n",
    "\n",
    "**Notes**\n",
    "\n",
    "* In case you are only interested in obtaining the third-order aperture statistics, you can also directly call this method right after processing the shape catalog.\n",
    "\n",
    "* One should only trust the third-order aperture statistics for radii $R\\in[\\alpha\\,\\theta_{\\rm min}, \\beta\\,\\theta_{\\rm max}]$, where $\\alpha\\approx 5$  and $\\beta \\approx 0.125$. In the plot below this range is indicated by the dashed vertical lines.\n",
    "\n",
    "* Furthermore, the binning should be sufficiently fine, i.e. the value of the `GNNCorrelation.binsize` attribute should be less than `0.1` for an accuracy of about one per cent."
   ]
  },
  {
   "cell_type": "code",
   "execution_count": 10,
   "id": "6d666905",
   "metadata": {},
   "outputs": [
    {
     "name": "stdout",
     "output_type": "stream",
     "text": [
      "CPU times: user 11 s, sys: 11 s, total: 21.9 s\n",
      "Wall time: 3.91 s\n"
     ]
    }
   ],
   "source": [
    "%%time\n",
    "radii_ap = np.geomspace(1.,30.,20)\n",
    "NNM = gnn.computeNNM(radii_ap)"
   ]
  },
  {
   "cell_type": "code",
   "execution_count": 15,
   "id": "ac8e630f",
   "metadata": {},
   "outputs": [
    {
     "data": {
      "text/plain": [
       "(1e-08, 9.72399661216892e-05)"
      ]
     },
     "execution_count": 15,
     "metadata": {},
     "output_type": "execute_result"
    },
    {
     "data": {
      "image/png": "[encoded data removed]",
      "text/plain": [
       "<Figure size 640x480 with 1 Axes>"
      ]
     },
     "metadata": {},
     "output_type": "display_data"
    }
   ],
   "source": [
    "plt.loglog(radii_ap, NNM[0,0].real, label=\"NapNapMap\")\n",
    "plt.loglog(radii_ap, np.abs(NNM[0,0].imag), label=\"|NapNapMx|\")\n",
    "plt.axvline(x=5*gnn.min_sep, color=\"grey\",alpha=0.5,ls=\"--\")\n",
    "plt.axvline(x=0.125*gnn.max_sep, color=\"grey\",alpha=0.5,ls=\"--\")\n",
    "plt.xlabel(\"Aperture radius [arcmin]\")\n",
    "plt.ylabel(\"Third-order aperture statistics\")\n",
    "plt.legend(loc=\"upper right\")\n",
    "plt.ylim(1e-8,None)"
   ]
  },
  {
   "cell_type": "code",
   "execution_count": null,
   "id": "d371b884",
   "metadata": {},
   "outputs": [],
   "source": []
  }
 ],
 "metadata": {
  "kernelspec": {
   "display_name": "orpheus_devel",
   "language": "python",
   "name": "orpheus_devel"
  },
  "language_info": {
   "codemirror_mode": {
    "name": "ipython",
    "version": 3
   },
   "file_extension": ".py",
   "mimetype": "text/x-python",
   "name": "python",
   "nbconvert_exporter": "python",
   "pygments_lexer": "ipython3",
   "version": "3.12.1"
  }
 },
 "nbformat": 4,
 "nbformat_minor": 5
}
