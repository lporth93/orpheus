{
 "cells": [
  {
   "cell_type": "markdown",
   "id": "2d5d625c",
   "metadata": {},
   "source": [
    "# Computing fourth-order shear statistics on a mock shape catalog\n",
    "\n",
    "In this notebooks we compute the fourth-order shear correlation functions on a realistic shape catalog and compare it with the gaussian prediction"
   ]
  },
  {
   "cell_type": "code",
   "execution_count": 1,
   "id": "90abdb2e",
   "metadata": {},
   "outputs": [],
   "source": [
    "from astropy.table import Table\n",
    "import numpy as np\n",
    "from matplotlib import pyplot as plt\n",
    "\n",
    "import orpheus"
   ]
  },
  {
   "cell_type": "markdown",
   "id": "2cd66022-4b66-4c37-9cf3-0660255354c5",
   "metadata": {},
   "source": [
    "## Obtaining a realistic mock shape catalog\n",
    "\n",
    "We will run this notebook using a mocks shape catalog from the SLICS ensemble. First, let us download this catalog and read in its contents.\n",
    "\n",
    "**Note:** If you want to run the notebook yourself, you need to update the `savepath_SLICS` variable."
   ]
  },
  {
   "cell_type": "code",
   "execution_count": 2,
   "id": "e9caef8a-6509-4ff3-a8b8-488bde4a9386",
   "metadata": {},
   "outputs": [],
   "source": [
    "catname = \"GalCatalog_LOS1.fits\"\n",
    "path_to_SLICS = \"http://cuillin.roe.ac.uk/~jharno/SLICS/MockProducts/KiDS450/\" + catname\n",
    "savepath_SLICS = \"/vol/euclidraid4/data/lporth/HigherOrderLensing/Mocks/SLICS_KiDS450/\""
   ]
  },
  {
   "cell_type": "code",
   "execution_count": null,
   "id": "35da3114-2a5d-4667-85be-18519deae89d",
   "metadata": {},
   "outputs": [],
   "source": []
  }
 ],
 "metadata": {
  "kernelspec": {
   "display_name": "orpheus_devel",
   "language": "python",
   "name": "orpheus_devel"
  },
  "language_info": {
   "codemirror_mode": {
    "name": "ipython",
    "version": 3
   },
   "file_extension": ".py",
   "mimetype": "text/x-python",
   "name": "python",
   "nbconvert_exporter": "python",
   "pygments_lexer": "ipython3",
   "version": "3.12.1"
  }
 },
 "nbformat": 4,
 "nbformat_minor": 5
}
