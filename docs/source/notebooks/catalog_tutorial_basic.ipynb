{
 "cells": [
  {
   "cell_type": "markdown",
   "id": "2d5d625c",
   "metadata": {},
   "source": [
    "# Introduction to the `Catalog` class in `orpheus`\n",
    "\n",
    "In this notebooks we introduce the different tracer categories in `orpheus` and how to construct reduced catalogs. "
   ]
  },
  {
   "cell_type": "code",
   "execution_count": 1,
   "id": "90abdb2e",
   "metadata": {},
   "outputs": [],
   "source": [
    "from astropy.table import Table\n",
    "import numpy as np\n",
    "from matplotlib import pyplot as plt\n",
    "\n",
    "import orpheus"
   ]
  },
  {
   "cell_type": "code",
   "execution_count": null,
   "id": "6e7ee97d",
   "metadata": {},
   "outputs": [],
   "source": []
  }
 ],
 "metadata": {
  "kernelspec": {
   "display_name": "orpheus_devel",
   "language": "python",
   "name": "orpheus_devel"
  },
  "language_info": {
   "codemirror_mode": {
    "name": "ipython",
    "version": 3
   },
   "file_extension": ".py",
   "mimetype": "text/x-python",
   "name": "python",
   "nbconvert_exporter": "python",
   "pygments_lexer": "ipython3",
   "version": "3.12.1"
  }
 },
 "nbformat": 4,
 "nbformat_minor": 5
}
